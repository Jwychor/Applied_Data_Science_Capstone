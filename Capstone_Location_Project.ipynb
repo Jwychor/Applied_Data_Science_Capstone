{
    "cells": [
        {
            "cell_type": "markdown",
            "metadata": {
                "collapsed": true
            },
            "source": "# Restaraunt Location Based on Population Density in Minneapolis"
        },
        {
            "cell_type": "markdown",
            "metadata": {},
            "source": "# Part 1, The Business Problem\n#### A client is opening a new restaurant in Minneapolis. They want to know if restaraunts around the center of minneapolis cluster near restaraunt of the same cuisine to help them know where to open their restaraunt. The data will be retrieved using the foursquare API using requests such as the one below."
        },
        {
            "cell_type": "code",
            "execution_count": null,
            "metadata": {},
            "outputs": [],
            "source": "!conda install -c conda-forge folium --yes"
        },
        {
            "cell_type": "code",
            "execution_count": 9,
            "metadata": {
                "scrolled": true
            },
            "outputs": [],
            "source": "#Packages\nfrom pandas.io.json import json_normalize\nimport folium\nfrom geopy.geocoders import Nominatim \nimport requests\n\nCLIENT_ID = '4LODPHDNFDBWNKDHOM0Y2UMHD0SVYV1KIUBKAJUFCX5JIEWT'\nCLIENT_SECRET = 'D3EUBJ3Q2H4RO5RI3QNFA0Q2SVZMKV3KUE4FNCTQYTZUA3XQ'\nVERSION = '20180604'\nradius = 20000\nLIMIT = 100"
        },
        {
            "cell_type": "code",
            "execution_count": 10,
            "metadata": {},
            "outputs": [],
            "source": "url = 'https://api.foursquare.com/v2/venues/explore?&client_id={}&client_secret={}&v={}&ll={},{}&radius={}&limit={}'.format(\n    CLIENT_ID, \n    CLIENT_SECRET, \n    VERSION, \n    44.986656, \n    -93.258133, \n    radius, \n    LIMIT)\n\nresults = requests.get(url).json()"
        }
    ],
    "metadata": {
        "kernelspec": {
            "display_name": "Python 3.6",
            "language": "python",
            "name": "python3"
        },
        "language_info": {
            "codemirror_mode": {
                "name": "ipython",
                "version": 3
            },
            "file_extension": ".py",
            "mimetype": "text/x-python",
            "name": "python",
            "nbconvert_exporter": "python",
            "pygments_lexer": "ipython3",
            "version": "3.6.9"
        }
    },
    "nbformat": 4,
    "nbformat_minor": 1
}